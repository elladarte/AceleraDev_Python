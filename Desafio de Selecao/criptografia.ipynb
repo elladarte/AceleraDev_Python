{
 "cells": [
  {
   "cell_type": "markdown",
   "metadata": {},
   "source": [
    "# Criptografia de Júlio César"
   ]
  },
  {
   "cell_type": "markdown",
   "metadata": {},
   "source": [
    "Segundo o Wikipedia, criptografia ou criptologia (em grego: kryptós, “escondido”, e gráphein, “escrita”) é o estudo e prática de princípios e técnicas para comunicação segura na presença de terceiros, chamados “adversários”. Mas geralmente, a criptografia refere-se à construção e análise de protocolos que impedem terceiros, ou o público, de lerem mensagens privadas. Muitos aspectos em segurança da informação, como confidencialidade, integridade de dados, autenticação e não-repúdio são centrais à criptografia moderna. Aplicações de criptografia incluem comércio eletrônico, cartões de pagamento baseados em chip, moedas digitais, senhas de computadores e comunicações militares. Das Criptografias mais curiosas na história da humanidade podemos citar a criptografia utilizada pelo grande líder militar romano Júlio César para comunicar com os seus generais. Essa criptografia se baseia na substituição da letra do alfabeto avançado um determinado número de casas. Por exemplo, considerando o número de casas = 3:"
   ]
  },
  {
   "cell_type": "markdown",
   "metadata": {},
   "source": [
    "Normal: a ligeira raposa marrom saltou sobre o cachorro cansado\n",
    "\n",
    "Cifrado: d oljhlud udsrvd pduurp vdowrx vreuh r fdfkruur fdqvdgr"
   ]
  },
  {
   "cell_type": "markdown",
   "metadata": {},
   "source": [
    "Importando Bibliotecas"
   ]
  },
  {
   "cell_type": "code",
   "execution_count": 1,
   "metadata": {},
   "outputs": [],
   "source": [
    "import requests\n",
    "import json\n",
    "import hashlib"
   ]
  },
  {
   "cell_type": "markdown",
   "metadata": {},
   "source": [
    "Pedindo a requisição à API"
   ]
  },
  {
   "cell_type": "code",
   "execution_count": 2,
   "metadata": {},
   "outputs": [],
   "source": [
    "req = requests.get('https://api.codenation.dev/v1/challenge/dev-ps/generate-data?token=198e87968fd0831856bdab32131f9a00ecf07a6f')"
   ]
  },
  {
   "cell_type": "code",
   "execution_count": 3,
   "metadata": {},
   "outputs": [
    {
     "data": {
      "text/plain": [
       "b'{\"numero_casas\":4,\"token\":\"198e87968fd0831856bdab32131f9a00ecf07a6f\",\"cifrado\":\"glygo rsvvmw hsiw rsx ks lyrxmrk. glygo rsvvmw ksiw omppmrk. yrorsar\",\"decifrado\":\"\",\"resumo_criptografico\":\"\"}\\n'"
      ]
     },
     "execution_count": 3,
     "metadata": {},
     "output_type": "execute_result"
    }
   ],
   "source": [
    "req.content"
   ]
  },
  {
   "cell_type": "code",
   "execution_count": 4,
   "metadata": {},
   "outputs": [
    {
     "data": {
      "text/plain": [
       "{'numero_casas': 4,\n",
       " 'token': '198e87968fd0831856bdab32131f9a00ecf07a6f',\n",
       " 'cifrado': 'glygo rsvvmw hsiw rsx ks lyrxmrk. glygo rsvvmw ksiw omppmrk. yrorsar',\n",
       " 'decifrado': '',\n",
       " 'resumo_criptografico': ''}"
      ]
     },
     "execution_count": 4,
     "metadata": {},
     "output_type": "execute_result"
    }
   ],
   "source": [
    "req.json()"
   ]
  },
  {
   "cell_type": "markdown",
   "metadata": {},
   "source": [
    "Definindo uma variavel com os dados da requisição"
   ]
  },
  {
   "cell_type": "code",
   "execution_count": 5,
   "metadata": {},
   "outputs": [],
   "source": [
    "dados = req.json()"
   ]
  },
  {
   "cell_type": "markdown",
   "metadata": {},
   "source": [
    "Abrindo os dados  num arquivo em formato json"
   ]
  },
  {
   "cell_type": "code",
   "execution_count": 1,
   "metadata": {},
   "outputs": [
    {
     "ename": "NameError",
     "evalue": "name 'json' is not defined",
     "output_type": "error",
     "traceback": [
      "\u001b[1;31m---------------------------------------------------------------------------\u001b[0m",
      "\u001b[1;31mNameError\u001b[0m                                 Traceback (most recent call last)",
      "\u001b[1;32m<ipython-input-1-6428f40974a7>\u001b[0m in \u001b[0;36m<module>\u001b[1;34m()\u001b[0m\n\u001b[0;32m      1\u001b[0m \u001b[1;32mwith\u001b[0m \u001b[0mopen\u001b[0m\u001b[1;33m(\u001b[0m\u001b[1;34m'answer.json'\u001b[0m\u001b[1;33m,\u001b[0m \u001b[1;34m'w'\u001b[0m\u001b[1;33m)\u001b[0m \u001b[1;32mas\u001b[0m \u001b[0mfp\u001b[0m\u001b[1;33m:\u001b[0m\u001b[1;33m\u001b[0m\u001b[0m\n\u001b[1;32m----> 2\u001b[1;33m     \u001b[0mjson\u001b[0m\u001b[1;33m.\u001b[0m\u001b[0mdump\u001b[0m\u001b[1;33m(\u001b[0m\u001b[0mdados\u001b[0m\u001b[1;33m,\u001b[0m \u001b[0mfp\u001b[0m\u001b[1;33m)\u001b[0m\u001b[1;33m\u001b[0m\u001b[0m\n\u001b[0m",
      "\u001b[1;31mNameError\u001b[0m: name 'json' is not defined"
     ]
    }
   ],
   "source": [
    "with open('answer.json', 'w') as fp:\n",
    "    json.dump(dados, fp)"
   ]
  },
  {
   "cell_type": "markdown",
   "metadata": {},
   "source": [
    "Coletando a as informações "
   ]
  },
  {
   "cell_type": "code",
   "execution_count": 7,
   "metadata": {},
   "outputs": [],
   "source": [
    "with open('answer.json') as json_file:\n",
    "    data = json.load(json_file)"
   ]
  },
  {
   "cell_type": "code",
   "execution_count": 8,
   "metadata": {},
   "outputs": [
    {
     "data": {
      "text/plain": [
       "{'numero_casas': 4,\n",
       " 'token': '198e87968fd0831856bdab32131f9a00ecf07a6f',\n",
       " 'cifrado': 'glygo rsvvmw hsiw rsx ks lyrxmrk. glygo rsvvmw ksiw omppmrk. yrorsar',\n",
       " 'decifrado': '',\n",
       " 'resumo_criptografico': ''}"
      ]
     },
     "execution_count": 8,
     "metadata": {},
     "output_type": "execute_result"
    }
   ],
   "source": [
    "data"
   ]
  },
  {
   "cell_type": "markdown",
   "metadata": {},
   "source": [
    "Definindo os valores de cada chave do dicionario para coletar apenas o texto que dever ser decifrado"
   ]
  },
  {
   "cell_type": "code",
   "execution_count": 9,
   "metadata": {},
   "outputs": [],
   "source": [
    "CARACTERES = 'abcdefghijklmnopqrstuvwxyz'\n",
    "chave = data['numero_casas']\n",
    "token = data['token']\n",
    "texto = data['cifrado']\n",
    "convertido = data['decifrado']\n",
    "resumo = data['resumo_criptografico']"
   ]
  },
  {
   "cell_type": "markdown",
   "metadata": {},
   "source": [
    "Verificando o texto"
   ]
  },
  {
   "cell_type": "code",
   "execution_count": 10,
   "metadata": {},
   "outputs": [
    {
     "data": {
      "text/plain": [
       "'glygo rsvvmw hsiw rsx ks lyrxmrk. glygo rsvvmw ksiw omppmrk. yrorsar'"
      ]
     },
     "execution_count": 10,
     "metadata": {},
     "output_type": "execute_result"
    }
   ],
   "source": [
    "texto"
   ]
  },
  {
   "cell_type": "markdown",
   "metadata": {},
   "source": [
    "Decifrando o texto"
   ]
  },
  {
   "cell_type": "code",
   "execution_count": 12,
   "metadata": {},
   "outputs": [],
   "source": [
    "num = 0\n",
    "convertido = ''\n",
    "for caractere in texto:\n",
    "    if caractere in CARACTERES:\n",
    "        num = CARACTERES.find(caractere)\n",
    "        num = num - chave\n",
    "        if num >= len(CARACTERES):\n",
    "            num = num - len(CARACTERES)\n",
    "        elif num < 0:\n",
    "            num = num + len(CARACTERES)\n",
    "        convertido = convertido + CARACTERES[num] \n",
    "    else:\n",
    "        convertido = convertido + caractere"
   ]
  },
  {
   "cell_type": "markdown",
   "metadata": {},
   "source": [
    "Conferindo o texto decifrado"
   ]
  },
  {
   "cell_type": "code",
   "execution_count": 13,
   "metadata": {},
   "outputs": [
    {
     "data": {
      "text/plain": [
       "'chuck norris does not go hunting. chuck norris goes killing. unknown'"
      ]
     },
     "execution_count": 13,
     "metadata": {},
     "output_type": "execute_result"
    }
   ],
   "source": [
    "convertido"
   ]
  },
  {
   "cell_type": "markdown",
   "metadata": {},
   "source": [
    "Adicionando o texto decifrado como valor da chave decifrado do dicionario"
   ]
  },
  {
   "cell_type": "code",
   "execution_count": 14,
   "metadata": {},
   "outputs": [],
   "source": [
    "data['decifrado'] = convertido"
   ]
  },
  {
   "cell_type": "markdown",
   "metadata": {},
   "source": [
    "Conferindo se ouve a alocação correta no dicionario"
   ]
  },
  {
   "cell_type": "code",
   "execution_count": 15,
   "metadata": {},
   "outputs": [
    {
     "data": {
      "text/plain": [
       "{'numero_casas': 4,\n",
       " 'token': '198e87968fd0831856bdab32131f9a00ecf07a6f',\n",
       " 'cifrado': 'glygo rsvvmw hsiw rsx ks lyrxmrk. glygo rsvvmw ksiw omppmrk. yrorsar',\n",
       " 'decifrado': 'chuck norris does not go hunting. chuck norris goes killing. unknown',\n",
       " 'resumo_criptografico': ''}"
      ]
     },
     "execution_count": 15,
     "metadata": {},
     "output_type": "execute_result"
    }
   ],
   "source": [
    "data"
   ]
  },
  {
   "cell_type": "markdown",
   "metadata": {},
   "source": [
    "Definindo o resumo criptografico, confesso que nessa etapa do desafio não entendi muito bem o que devia ser feito. Nessa resolução obtive ajuda dos proprios participantes do desafio via chat criado pela codenation. "
   ]
  },
  {
   "cell_type": "code",
   "execution_count": 16,
   "metadata": {},
   "outputs": [],
   "source": [
    "resumo = hashlib.sha1(('%s' % convertido).encode('utf-8'))\n",
    "resumo = resumo.hexdigest()\n",
    "data['resumo_criptografico'] = resumo"
   ]
  },
  {
   "cell_type": "markdown",
   "metadata": {},
   "source": [
    "Abrindo para escrever o resultado no arquivo resposta"
   ]
  },
  {
   "cell_type": "code",
   "execution_count": 17,
   "metadata": {},
   "outputs": [],
   "source": [
    "with open('answer.json', 'w') as fp:\n",
    "    json.dump(data, fp)"
   ]
  },
  {
   "cell_type": "code",
   "execution_count": 18,
   "metadata": {},
   "outputs": [],
   "source": [
    "with open('answer.json') as json_file:\n",
    "    data = json.load(json_file)"
   ]
  },
  {
   "cell_type": "markdown",
   "metadata": {},
   "source": [
    "Novamente conferindo se ouve a alocação correta no dicionario"
   ]
  },
  {
   "cell_type": "code",
   "execution_count": 19,
   "metadata": {},
   "outputs": [
    {
     "data": {
      "text/plain": [
       "{'numero_casas': 4,\n",
       " 'token': '198e87968fd0831856bdab32131f9a00ecf07a6f',\n",
       " 'cifrado': 'glygo rsvvmw hsiw rsx ks lyrxmrk. glygo rsvvmw ksiw omppmrk. yrorsar',\n",
       " 'decifrado': 'chuck norris does not go hunting. chuck norris goes killing. unknown',\n",
       " 'resumo_criptografico': 'ac249cc61f7393aa1a4ea67c0373eaf5e0424e1a'}"
      ]
     },
     "execution_count": 19,
     "metadata": {},
     "output_type": "execute_result"
    }
   ],
   "source": [
    "data"
   ]
  },
  {
   "cell_type": "markdown",
   "metadata": {},
   "source": [
    "Ultima Etapa. Aqui pedi novamente a requisição do meu token para API, dessa vez para tranferir a minha resposta do desafio."
   ]
  },
  {
   "cell_type": "code",
   "execution_count": 20,
   "metadata": {},
   "outputs": [
    {
     "data": {
      "text/plain": [
       "200"
      ]
     },
     "execution_count": 20,
     "metadata": {},
     "output_type": "execute_result"
    }
   ],
   "source": [
    "params = {'token':token}\n",
    "url = 'https://api.codenation.dev/v1/challenge/dev-ps/submit-solution?token=198e87968fd0831856bdab32131f9a00ecf07a6f'\n",
    "#answer = {'answer': data}\n",
    "answer = {'answer': open('answer.json', 'rb')}\n",
    "submit = requests.post(url, files=answer)\n",
    "submit.status_code"
   ]
  },
  {
   "cell_type": "code",
   "execution_count": null,
   "metadata": {},
   "outputs": [],
   "source": []
  }
 ],
 "metadata": {
  "kernelspec": {
   "display_name": "Python 3",
   "language": "python",
   "name": "python3"
  },
  "language_info": {
   "codemirror_mode": {
    "name": "ipython",
    "version": 3
   },
   "file_extension": ".py",
   "mimetype": "text/x-python",
   "name": "python",
   "nbconvert_exporter": "python",
   "pygments_lexer": "ipython3",
   "version": "3.6.5"
  }
 },
 "nbformat": 4,
 "nbformat_minor": 2
}
